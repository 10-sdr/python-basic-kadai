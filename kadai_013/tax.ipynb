{
  "nbformat": 4,
  "nbformat_minor": 0,
  "metadata": {
    "colab": {
      "provenance": []
    },
    "kernelspec": {
      "name": "python3",
      "display_name": "Python 3"
    },
    "language_info": {
      "name": "python"
    }
  },
  "cells": [
    {
      "cell_type": "code",
      "execution_count": 2,
      "metadata": {
        "colab": {
          "base_uri": "https://localhost:8080/"
        },
        "id": "D1zghCLydGxC",
        "outputId": "e81954c9-7edd-4a98-bd6d-7c73a7aa5f4a"
      },
      "outputs": [
        {
          "output_type": "stream",
          "name": "stdout",
          "text": [
            "121.0\n"
          ]
        }
      ],
      "source": [
        "def price(price_,tax_):\n",
        "  tax_kingaku = price_ * tax_ / 100\n",
        "  return price_ + tax_kingaku\n",
        "  #return total_\n",
        "\n",
        "print(price(110,10))"
      ]
    }
  ]
}