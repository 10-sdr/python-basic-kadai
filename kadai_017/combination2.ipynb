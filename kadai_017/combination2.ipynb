{
  "nbformat": 4,
  "nbformat_minor": 0,
  "metadata": {
    "colab": {
      "provenance": []
    },
    "kernelspec": {
      "name": "python3",
      "display_name": "Python 3"
    },
    "language_info": {
      "name": "python"
    }
  },
  "cells": [
    {
      "cell_type": "code",
      "execution_count": 7,
      "metadata": {
        "colab": {
          "base_uri": "https://localhost:8080/"
        },
        "id": "skuhpv3zyVXZ",
        "outputId": "cbf50e33-68fb-43cf-c298-ef3a7bcd58b5"
      },
      "outputs": [
        {
          "output_type": "stream",
          "name": "stdout",
          "text": [
            "太郎は、大人ではない\n",
            "二郎は、大人である\n",
            "三郎は、大人である\n",
            "四郎は、大人である\n"
          ]
        }
      ],
      "source": [
        "class Human:\n",
        "    def __init__(self, name, age):\n",
        "        self.name = name\n",
        "        self.age = age\n",
        "\n",
        "    def check_adult(self):\n",
        "        if self.age >= 20:\n",
        "            print(f\"{self.name}は、大人である\")\n",
        "        else:\n",
        "            print(f\"{self.name}は、大人ではない\")\n",
        "\n",
        "people_dict = {\"太郎\": 10, \"二郎\": 20, \"三郎\": 30, \"四郎\": 40}\n",
        "humans = []\n",
        "\n",
        "for name, age in people_dict.items():\n",
        "    humans.append([name, age])\n",
        "\n",
        "for person in humans:\n",
        "    human = Human(person[0], person[1])\n",
        "    human.check_adult()\n",
        "\n"
      ]
    }
  ]
}