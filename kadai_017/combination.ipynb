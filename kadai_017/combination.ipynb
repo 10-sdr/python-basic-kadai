{
  "nbformat": 4,
  "nbformat_minor": 0,
  "metadata": {
    "colab": {
      "provenance": []
    },
    "kernelspec": {
      "name": "python3",
      "display_name": "Python 3"
    },
    "language_info": {
      "name": "python"
    }
  },
  "cells": [
    {
      "cell_type": "code",
      "execution_count": 2,
      "metadata": {
        "colab": {
          "base_uri": "https://localhost:8080/"
        },
        "id": "skuhpv3zyVXZ",
        "outputId": "02369eb7-ca1d-4775-85aa-8db98b6e0325"
      },
      "outputs": [
        {
          "output_type": "stream",
          "name": "stdout",
          "text": [
            "太郎は、大人ない\n",
            "二郎は、大人である\n",
            "三郎は、大人である\n",
            "四郎は、大人である\n"
          ]
        }
      ],
      "source": [
        "array = {\"太郎\": 10,\"二郎\": 20,\"三郎\": 30,\"四郎\": 40}\n",
        "class Human:\n",
        "  def __init__(self):\n",
        "    self.name = \"\"\n",
        "    self.age = \"\"\n",
        "\n",
        "  def set_name(self, name, age):\n",
        "    self.name = name\n",
        "    self.age = age\n",
        "\n",
        "  def chek_adult(self):\n",
        "    if self.age >= 20:\n",
        "      print(f\"{self.name}は、大人である\")\n",
        "    else:\n",
        "      print(f\"{self.name}は、大人ない\")\n",
        "\n",
        "human = Human()\n",
        "for key, value in array.items():\n",
        "  human.set_name(key,value)\n",
        "  human.chek_adult()\n"
      ]
    }
  ]
}