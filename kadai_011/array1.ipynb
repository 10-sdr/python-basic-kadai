{
  "nbformat": 4,
  "nbformat_minor": 0,
  "metadata": {
    "colab": {
      "provenance": []
    },
    "kernelspec": {
      "name": "python3",
      "display_name": "Python 3"
    },
    "language_info": {
      "name": "python"
    }
  },
  "cells": [
    {
      "cell_type": "code",
      "execution_count": 41,
      "metadata": {
        "colab": {
          "base_uri": "https://localhost:8080/"
        },
        "id": "D1zghCLydGxC",
        "outputId": "60f05f14-4cd4-4348-9c46-f3f20a4efedc"
      },
      "outputs": [
        {
          "output_type": "stream",
          "name": "stdout",
          "text": [
            "1 水\n",
            "2 金\n",
            "3 地\n",
            "4 火\n",
            "5 木\n",
            "6 土\n",
            "7 天\n",
            "8 海\n",
            "9 冥\n",
            "10  水\n",
            "11  金\n",
            "12  地\n",
            "13  火\n",
            "14  木\n",
            "15  土\n",
            "16  天\n",
            "17  海\n",
            "18  冥\n"
          ]
        }
      ],
      "source": [
        "array = [\"水\",\"金\",\"地\",\"火\",\"木\",\"土\",\"天\",\"海\",\"冥\"]\n",
        "index = 1\n",
        "num = 0\n",
        "kk = 0\n",
        "\n",
        "while kk <= 8:\n",
        "  print(index, array[kk])\n",
        "  kk = kk + 1\n",
        "  index = index + 1\n",
        "for value in array:\n",
        "  print(f\"{index}  {value}\")\n",
        "  index = index + 1"
      ]
    }
  ]
}