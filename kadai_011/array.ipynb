{
  "nbformat": 4,
  "nbformat_minor": 0,
  "metadata": {
    "colab": {
      "provenance": []
    },
    "kernelspec": {
      "name": "python3",
      "display_name": "Python 3"
    },
    "language_info": {
      "name": "python"
    }
  },
  "cells": [
    {
      "cell_type": "code",
      "execution_count": 6,
      "metadata": {
        "colab": {
          "base_uri": "https://localhost:8080/"
        },
        "id": "D1zghCLydGxC",
        "outputId": "6d868a0b-e4ec-4fca-d3ea-356fa24cc253"
      },
      "outputs": [
        {
          "output_type": "stream",
          "name": "stdout",
          "text": [
            "1  水\n",
            "2  金\n",
            "3  地\n",
            "4  火\n",
            "5  木\n",
            "6  土\n",
            "7  天\n",
            "8  海\n",
            "9  冥\n",
            "10  水\n",
            "11  金\n",
            "12  地\n",
            "13  火\n",
            "14  木\n",
            "15  土\n",
            "16  天\n",
            "17  海\n",
            "18  冥\n"
          ]
        }
      ],
      "source": [
        "array = [\"水\",\"金\",\"地\",\"火\",\"木\",\"土\",\"天\",\"海\",\"冥\"]\n",
        "index = 1\n",
        "num = 1\n",
        "while num <= 2:\n",
        "  num = num + 1\n",
        "  for value in array:\n",
        "    print(f\"{index}  {value}\")\n",
        "    index = index + 1"
      ]
    }
  ]
}